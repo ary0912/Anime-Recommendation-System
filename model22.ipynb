{
 "cells": [
  {
   "cell_type": "code",
   "execution_count": 1,
   "metadata": {},
   "outputs": [],
   "source": [
    "import numpy as np\n",
    "import pandas as pd\n",
    "import matplotlib.pyplot as plt\n",
    "import seaborn as sns\n",
    "sns.set_style('whitegrid')\n",
    "%matplotlib inline\n",
    "\n"
   ]
  },
  {
   "cell_type": "code",
   "execution_count": 2,
   "metadata": {},
   "outputs": [
    {
     "ename": "FileNotFoundError",
     "evalue": "[Errno 2] No such file or directory: 'rating.csv'",
     "output_type": "error",
     "traceback": [
      "\u001b[0;31m---------------------------------------------------------------------------\u001b[0m",
      "\u001b[0;31mFileNotFoundError\u001b[0m                         Traceback (most recent call last)",
      "\u001b[1;32m/Users/aryanlodha/Desktop/Sem 5 Files/Data Mining Lab/Anime Reccomendations System/model copy.ipynb Cell 2\u001b[0m in \u001b[0;36m<cell line: 1>\u001b[0;34m()\u001b[0m\n\u001b[0;32m----> <a href='vscode-notebook-cell:/Users/aryanlodha/Desktop/Sem%205%20Files/Data%20Mining%20Lab/Anime%20Reccomendations%20System/model%20copy.ipynb#W1sZmlsZQ%3D%3D?line=0'>1</a>\u001b[0m rating \u001b[39m=\u001b[39m pd\u001b[39m.\u001b[39;49mread_csv(\u001b[39m'\u001b[39;49m\u001b[39mrating.csv\u001b[39;49m\u001b[39m'\u001b[39;49m)\n\u001b[1;32m      <a href='vscode-notebook-cell:/Users/aryanlodha/Desktop/Sem%205%20Files/Data%20Mining%20Lab/Anime%20Reccomendations%20System/model%20copy.ipynb#W1sZmlsZQ%3D%3D?line=1'>2</a>\u001b[0m anime \u001b[39m=\u001b[39m pd\u001b[39m.\u001b[39mread_csv(\u001b[39m'\u001b[39m\u001b[39manime.csv\u001b[39m\u001b[39m'\u001b[39m)\n\u001b[1;32m      <a href='vscode-notebook-cell:/Users/aryanlodha/Desktop/Sem%205%20Files/Data%20Mining%20Lab/Anime%20Reccomendations%20System/model%20copy.ipynb#W1sZmlsZQ%3D%3D?line=2'>3</a>\u001b[0m anime\n",
      "File \u001b[0;32m/Library/Frameworks/Python.framework/Versions/3.10/lib/python3.10/site-packages/pandas/util/_decorators.py:311\u001b[0m, in \u001b[0;36mdeprecate_nonkeyword_arguments.<locals>.decorate.<locals>.wrapper\u001b[0;34m(*args, **kwargs)\u001b[0m\n\u001b[1;32m    305\u001b[0m \u001b[39mif\u001b[39;00m \u001b[39mlen\u001b[39m(args) \u001b[39m>\u001b[39m num_allow_args:\n\u001b[1;32m    306\u001b[0m     warnings\u001b[39m.\u001b[39mwarn(\n\u001b[1;32m    307\u001b[0m         msg\u001b[39m.\u001b[39mformat(arguments\u001b[39m=\u001b[39marguments),\n\u001b[1;32m    308\u001b[0m         \u001b[39mFutureWarning\u001b[39;00m,\n\u001b[1;32m    309\u001b[0m         stacklevel\u001b[39m=\u001b[39mstacklevel,\n\u001b[1;32m    310\u001b[0m     )\n\u001b[0;32m--> 311\u001b[0m \u001b[39mreturn\u001b[39;00m func(\u001b[39m*\u001b[39;49margs, \u001b[39m*\u001b[39;49m\u001b[39m*\u001b[39;49mkwargs)\n",
      "File \u001b[0;32m/Library/Frameworks/Python.framework/Versions/3.10/lib/python3.10/site-packages/pandas/io/parsers/readers.py:680\u001b[0m, in \u001b[0;36mread_csv\u001b[0;34m(filepath_or_buffer, sep, delimiter, header, names, index_col, usecols, squeeze, prefix, mangle_dupe_cols, dtype, engine, converters, true_values, false_values, skipinitialspace, skiprows, skipfooter, nrows, na_values, keep_default_na, na_filter, verbose, skip_blank_lines, parse_dates, infer_datetime_format, keep_date_col, date_parser, dayfirst, cache_dates, iterator, chunksize, compression, thousands, decimal, lineterminator, quotechar, quoting, doublequote, escapechar, comment, encoding, encoding_errors, dialect, error_bad_lines, warn_bad_lines, on_bad_lines, delim_whitespace, low_memory, memory_map, float_precision, storage_options)\u001b[0m\n\u001b[1;32m    665\u001b[0m kwds_defaults \u001b[39m=\u001b[39m _refine_defaults_read(\n\u001b[1;32m    666\u001b[0m     dialect,\n\u001b[1;32m    667\u001b[0m     delimiter,\n\u001b[0;32m   (...)\u001b[0m\n\u001b[1;32m    676\u001b[0m     defaults\u001b[39m=\u001b[39m{\u001b[39m\"\u001b[39m\u001b[39mdelimiter\u001b[39m\u001b[39m\"\u001b[39m: \u001b[39m\"\u001b[39m\u001b[39m,\u001b[39m\u001b[39m\"\u001b[39m},\n\u001b[1;32m    677\u001b[0m )\n\u001b[1;32m    678\u001b[0m kwds\u001b[39m.\u001b[39mupdate(kwds_defaults)\n\u001b[0;32m--> 680\u001b[0m \u001b[39mreturn\u001b[39;00m _read(filepath_or_buffer, kwds)\n",
      "File \u001b[0;32m/Library/Frameworks/Python.framework/Versions/3.10/lib/python3.10/site-packages/pandas/io/parsers/readers.py:575\u001b[0m, in \u001b[0;36m_read\u001b[0;34m(filepath_or_buffer, kwds)\u001b[0m\n\u001b[1;32m    572\u001b[0m _validate_names(kwds\u001b[39m.\u001b[39mget(\u001b[39m\"\u001b[39m\u001b[39mnames\u001b[39m\u001b[39m\"\u001b[39m, \u001b[39mNone\u001b[39;00m))\n\u001b[1;32m    574\u001b[0m \u001b[39m# Create the parser.\u001b[39;00m\n\u001b[0;32m--> 575\u001b[0m parser \u001b[39m=\u001b[39m TextFileReader(filepath_or_buffer, \u001b[39m*\u001b[39;49m\u001b[39m*\u001b[39;49mkwds)\n\u001b[1;32m    577\u001b[0m \u001b[39mif\u001b[39;00m chunksize \u001b[39mor\u001b[39;00m iterator:\n\u001b[1;32m    578\u001b[0m     \u001b[39mreturn\u001b[39;00m parser\n",
      "File \u001b[0;32m/Library/Frameworks/Python.framework/Versions/3.10/lib/python3.10/site-packages/pandas/io/parsers/readers.py:934\u001b[0m, in \u001b[0;36mTextFileReader.__init__\u001b[0;34m(self, f, engine, **kwds)\u001b[0m\n\u001b[1;32m    931\u001b[0m     \u001b[39mself\u001b[39m\u001b[39m.\u001b[39moptions[\u001b[39m\"\u001b[39m\u001b[39mhas_index_names\u001b[39m\u001b[39m\"\u001b[39m] \u001b[39m=\u001b[39m kwds[\u001b[39m\"\u001b[39m\u001b[39mhas_index_names\u001b[39m\u001b[39m\"\u001b[39m]\n\u001b[1;32m    933\u001b[0m \u001b[39mself\u001b[39m\u001b[39m.\u001b[39mhandles: IOHandles \u001b[39m|\u001b[39m \u001b[39mNone\u001b[39;00m \u001b[39m=\u001b[39m \u001b[39mNone\u001b[39;00m\n\u001b[0;32m--> 934\u001b[0m \u001b[39mself\u001b[39m\u001b[39m.\u001b[39m_engine \u001b[39m=\u001b[39m \u001b[39mself\u001b[39;49m\u001b[39m.\u001b[39;49m_make_engine(f, \u001b[39mself\u001b[39;49m\u001b[39m.\u001b[39;49mengine)\n",
      "File \u001b[0;32m/Library/Frameworks/Python.framework/Versions/3.10/lib/python3.10/site-packages/pandas/io/parsers/readers.py:1218\u001b[0m, in \u001b[0;36mTextFileReader._make_engine\u001b[0;34m(self, f, engine)\u001b[0m\n\u001b[1;32m   1214\u001b[0m     mode \u001b[39m=\u001b[39m \u001b[39m\"\u001b[39m\u001b[39mrb\u001b[39m\u001b[39m\"\u001b[39m\n\u001b[1;32m   1215\u001b[0m \u001b[39m# error: No overload variant of \"get_handle\" matches argument types\u001b[39;00m\n\u001b[1;32m   1216\u001b[0m \u001b[39m# \"Union[str, PathLike[str], ReadCsvBuffer[bytes], ReadCsvBuffer[str]]\"\u001b[39;00m\n\u001b[1;32m   1217\u001b[0m \u001b[39m# , \"str\", \"bool\", \"Any\", \"Any\", \"Any\", \"Any\", \"Any\"\u001b[39;00m\n\u001b[0;32m-> 1218\u001b[0m \u001b[39mself\u001b[39m\u001b[39m.\u001b[39mhandles \u001b[39m=\u001b[39m get_handle(  \u001b[39m# type: ignore[call-overload]\u001b[39;49;00m\n\u001b[1;32m   1219\u001b[0m     f,\n\u001b[1;32m   1220\u001b[0m     mode,\n\u001b[1;32m   1221\u001b[0m     encoding\u001b[39m=\u001b[39;49m\u001b[39mself\u001b[39;49m\u001b[39m.\u001b[39;49moptions\u001b[39m.\u001b[39;49mget(\u001b[39m\"\u001b[39;49m\u001b[39mencoding\u001b[39;49m\u001b[39m\"\u001b[39;49m, \u001b[39mNone\u001b[39;49;00m),\n\u001b[1;32m   1222\u001b[0m     compression\u001b[39m=\u001b[39;49m\u001b[39mself\u001b[39;49m\u001b[39m.\u001b[39;49moptions\u001b[39m.\u001b[39;49mget(\u001b[39m\"\u001b[39;49m\u001b[39mcompression\u001b[39;49m\u001b[39m\"\u001b[39;49m, \u001b[39mNone\u001b[39;49;00m),\n\u001b[1;32m   1223\u001b[0m     memory_map\u001b[39m=\u001b[39;49m\u001b[39mself\u001b[39;49m\u001b[39m.\u001b[39;49moptions\u001b[39m.\u001b[39;49mget(\u001b[39m\"\u001b[39;49m\u001b[39mmemory_map\u001b[39;49m\u001b[39m\"\u001b[39;49m, \u001b[39mFalse\u001b[39;49;00m),\n\u001b[1;32m   1224\u001b[0m     is_text\u001b[39m=\u001b[39;49mis_text,\n\u001b[1;32m   1225\u001b[0m     errors\u001b[39m=\u001b[39;49m\u001b[39mself\u001b[39;49m\u001b[39m.\u001b[39;49moptions\u001b[39m.\u001b[39;49mget(\u001b[39m\"\u001b[39;49m\u001b[39mencoding_errors\u001b[39;49m\u001b[39m\"\u001b[39;49m, \u001b[39m\"\u001b[39;49m\u001b[39mstrict\u001b[39;49m\u001b[39m\"\u001b[39;49m),\n\u001b[1;32m   1226\u001b[0m     storage_options\u001b[39m=\u001b[39;49m\u001b[39mself\u001b[39;49m\u001b[39m.\u001b[39;49moptions\u001b[39m.\u001b[39;49mget(\u001b[39m\"\u001b[39;49m\u001b[39mstorage_options\u001b[39;49m\u001b[39m\"\u001b[39;49m, \u001b[39mNone\u001b[39;49;00m),\n\u001b[1;32m   1227\u001b[0m )\n\u001b[1;32m   1228\u001b[0m \u001b[39massert\u001b[39;00m \u001b[39mself\u001b[39m\u001b[39m.\u001b[39mhandles \u001b[39mis\u001b[39;00m \u001b[39mnot\u001b[39;00m \u001b[39mNone\u001b[39;00m\n\u001b[1;32m   1229\u001b[0m f \u001b[39m=\u001b[39m \u001b[39mself\u001b[39m\u001b[39m.\u001b[39mhandles\u001b[39m.\u001b[39mhandle\n",
      "File \u001b[0;32m/Library/Frameworks/Python.framework/Versions/3.10/lib/python3.10/site-packages/pandas/io/common.py:786\u001b[0m, in \u001b[0;36mget_handle\u001b[0;34m(path_or_buf, mode, encoding, compression, memory_map, is_text, errors, storage_options)\u001b[0m\n\u001b[1;32m    781\u001b[0m \u001b[39melif\u001b[39;00m \u001b[39misinstance\u001b[39m(handle, \u001b[39mstr\u001b[39m):\n\u001b[1;32m    782\u001b[0m     \u001b[39m# Check whether the filename is to be opened in binary mode.\u001b[39;00m\n\u001b[1;32m    783\u001b[0m     \u001b[39m# Binary mode does not support 'encoding' and 'newline'.\u001b[39;00m\n\u001b[1;32m    784\u001b[0m     \u001b[39mif\u001b[39;00m ioargs\u001b[39m.\u001b[39mencoding \u001b[39mand\u001b[39;00m \u001b[39m\"\u001b[39m\u001b[39mb\u001b[39m\u001b[39m\"\u001b[39m \u001b[39mnot\u001b[39;00m \u001b[39min\u001b[39;00m ioargs\u001b[39m.\u001b[39mmode:\n\u001b[1;32m    785\u001b[0m         \u001b[39m# Encoding\u001b[39;00m\n\u001b[0;32m--> 786\u001b[0m         handle \u001b[39m=\u001b[39m \u001b[39mopen\u001b[39;49m(\n\u001b[1;32m    787\u001b[0m             handle,\n\u001b[1;32m    788\u001b[0m             ioargs\u001b[39m.\u001b[39;49mmode,\n\u001b[1;32m    789\u001b[0m             encoding\u001b[39m=\u001b[39;49mioargs\u001b[39m.\u001b[39;49mencoding,\n\u001b[1;32m    790\u001b[0m             errors\u001b[39m=\u001b[39;49merrors,\n\u001b[1;32m    791\u001b[0m             newline\u001b[39m=\u001b[39;49m\u001b[39m\"\u001b[39;49m\u001b[39m\"\u001b[39;49m,\n\u001b[1;32m    792\u001b[0m         )\n\u001b[1;32m    793\u001b[0m     \u001b[39melse\u001b[39;00m:\n\u001b[1;32m    794\u001b[0m         \u001b[39m# Binary mode\u001b[39;00m\n\u001b[1;32m    795\u001b[0m         handle \u001b[39m=\u001b[39m \u001b[39mopen\u001b[39m(handle, ioargs\u001b[39m.\u001b[39mmode)\n",
      "\u001b[0;31mFileNotFoundError\u001b[0m: [Errno 2] No such file or directory: 'rating.csv'"
     ]
    }
   ],
   "source": [
    "rating = pd.read_csv('rating.csv')\n",
    "anime = pd.read_csv('anime.csv')\n",
    "anime\n"
   ]
  },
  {
   "cell_type": "code",
   "execution_count": null,
   "metadata": {},
   "outputs": [],
   "source": [
    "# PART 1. DATA PREPROCESSING\n",
    "\n",
    "#First, Merging the user rating dataframe with anime dataframe in order to get anime name"
   ]
  },
  {
   "cell_type": "code",
   "execution_count": null,
   "metadata": {},
   "outputs": [
    {
     "data": {
      "text/html": [
       "<div>\n",
       "<style scoped>\n",
       "    .dataframe tbody tr th:only-of-type {\n",
       "        vertical-align: middle;\n",
       "    }\n",
       "\n",
       "    .dataframe tbody tr th {\n",
       "        vertical-align: top;\n",
       "    }\n",
       "\n",
       "    .dataframe thead th {\n",
       "        text-align: right;\n",
       "    }\n",
       "</style>\n",
       "<table border=\"1\" class=\"dataframe\">\n",
       "  <thead>\n",
       "    <tr style=\"text-align: right;\">\n",
       "      <th></th>\n",
       "      <th>user_id</th>\n",
       "      <th>anime_id</th>\n",
       "      <th>rating</th>\n",
       "      <th>name</th>\n",
       "      <th>genre</th>\n",
       "      <th>type</th>\n",
       "      <th>episodes</th>\n",
       "      <th>members</th>\n",
       "    </tr>\n",
       "  </thead>\n",
       "  <tbody>\n",
       "    <tr>\n",
       "      <th>0</th>\n",
       "      <td>1</td>\n",
       "      <td>20</td>\n",
       "      <td>-1</td>\n",
       "      <td>Naruto</td>\n",
       "      <td>Action, Comedy, Martial Arts, Shounen, Super P...</td>\n",
       "      <td>TV</td>\n",
       "      <td>220</td>\n",
       "      <td>683297</td>\n",
       "    </tr>\n",
       "    <tr>\n",
       "      <th>1</th>\n",
       "      <td>3</td>\n",
       "      <td>20</td>\n",
       "      <td>8</td>\n",
       "      <td>Naruto</td>\n",
       "      <td>Action, Comedy, Martial Arts, Shounen, Super P...</td>\n",
       "      <td>TV</td>\n",
       "      <td>220</td>\n",
       "      <td>683297</td>\n",
       "    </tr>\n",
       "    <tr>\n",
       "      <th>2</th>\n",
       "      <td>5</td>\n",
       "      <td>20</td>\n",
       "      <td>6</td>\n",
       "      <td>Naruto</td>\n",
       "      <td>Action, Comedy, Martial Arts, Shounen, Super P...</td>\n",
       "      <td>TV</td>\n",
       "      <td>220</td>\n",
       "      <td>683297</td>\n",
       "    </tr>\n",
       "    <tr>\n",
       "      <th>3</th>\n",
       "      <td>6</td>\n",
       "      <td>20</td>\n",
       "      <td>-1</td>\n",
       "      <td>Naruto</td>\n",
       "      <td>Action, Comedy, Martial Arts, Shounen, Super P...</td>\n",
       "      <td>TV</td>\n",
       "      <td>220</td>\n",
       "      <td>683297</td>\n",
       "    </tr>\n",
       "    <tr>\n",
       "      <th>4</th>\n",
       "      <td>10</td>\n",
       "      <td>20</td>\n",
       "      <td>-1</td>\n",
       "      <td>Naruto</td>\n",
       "      <td>Action, Comedy, Martial Arts, Shounen, Super P...</td>\n",
       "      <td>TV</td>\n",
       "      <td>220</td>\n",
       "      <td>683297</td>\n",
       "    </tr>\n",
       "  </tbody>\n",
       "</table>\n",
       "</div>"
      ],
      "text/plain": [
       "   user_id  anime_id  rating    name  \\\n",
       "0        1        20      -1  Naruto   \n",
       "1        3        20       8  Naruto   \n",
       "2        5        20       6  Naruto   \n",
       "3        6        20      -1  Naruto   \n",
       "4       10        20      -1  Naruto   \n",
       "\n",
       "                                               genre type episodes  members  \n",
       "0  Action, Comedy, Martial Arts, Shounen, Super P...   TV      220   683297  \n",
       "1  Action, Comedy, Martial Arts, Shounen, Super P...   TV      220   683297  \n",
       "2  Action, Comedy, Martial Arts, Shounen, Super P...   TV      220   683297  \n",
       "3  Action, Comedy, Martial Arts, Shounen, Super P...   TV      220   683297  \n",
       "4  Action, Comedy, Martial Arts, Shounen, Super P...   TV      220   683297  "
      ]
     },
     "execution_count": 6,
     "metadata": {},
     "output_type": "execute_result"
    }
   ],
   "source": [
    "rating = pd.merge(rating,anime.drop('rating',axis=1),on='anime_id')\n",
    "rating.head()"
   ]
  },
  {
   "cell_type": "code",
   "execution_count": null,
   "metadata": {},
   "outputs": [],
   "source": [
    "# Checking Anime name by rating"
   ]
  },
  {
   "cell_type": "code",
   "execution_count": null,
   "metadata": {},
   "outputs": [
    {
     "data": {
      "text/plain": [
       "name\n",
       "Choegang Top Plate                                                  10.000000\n",
       "STAR BEAT!: Hoshi no Kodou                                          10.000000\n",
       "Shiroi Zou                                                          10.000000\n",
       "Warui no wo Taose!! Salaryman Man                                   10.000000\n",
       "Yakushiji Ryouko no Kaiki Jikenbo: Hamachou, Voice &amp; Fiction     9.000000\n",
       "Tang Lang Bu Chan                                                    9.000000\n",
       "Shiranpuri                                                           9.000000\n",
       "Doukyuusei                                                           9.000000\n",
       "Steins;Gate 0                                                        8.500000\n",
       "Kimi no Na wa.                                                       8.297863\n",
       "Name: rating, dtype: float64"
      ]
     },
     "execution_count": 8,
     "metadata": {},
     "output_type": "execute_result"
    }
   ],
   "source": [
    "rating.groupby('name')['rating'].mean().sort_values(ascending=False).head(10)\n"
   ]
  },
  {
   "cell_type": "code",
   "execution_count": null,
   "metadata": {},
   "outputs": [],
   "source": [
    "# Here, animes with 10 rating only got a few users watched them so the rating goes up so high.\n",
    "# So, we will make another attribute in order to get better recommendation. \n",
    "# Number of users seems logical since the more users watched the anime, higher probability the anime gets the actual rating based on many users."
   ]
  },
  {
   "cell_type": "code",
   "execution_count": null,
   "metadata": {},
   "outputs": [
    {
     "data": {
      "text/plain": [
       "name\n",
       "Death Note                          39340\n",
       "Sword Art Online                    30583\n",
       "Shingeki no Kyojin                  29584\n",
       "Code Geass: Hangyaku no Lelouch     27718\n",
       "Elfen Lied                          27506\n",
       "Angel Beats!                        27183\n",
       "Naruto                              25925\n",
       "Fullmetal Alchemist                 25032\n",
       "Fullmetal Alchemist: Brotherhood    24574\n",
       "Toradora!                           24283\n",
       "Name: rating, dtype: int64"
      ]
     },
     "execution_count": 10,
     "metadata": {},
     "output_type": "execute_result"
    }
   ],
   "source": [
    "rating.groupby('name')['rating'].count().sort_values(ascending=False).head(10)\n"
   ]
  },
  {
   "cell_type": "code",
   "execution_count": null,
   "metadata": {},
   "outputs": [],
   "source": [
    "# Now we see some popular anime here like Shingeki No Kyojin, Naruto, and even Fullmetal Alchemist."
   ]
  },
  {
   "cell_type": "code",
   "execution_count": null,
   "metadata": {},
   "outputs": [],
   "source": [
    "# PART 2. EXPLORATORY DATA ANALYSIS"
   ]
  },
  {
   "cell_type": "code",
   "execution_count": null,
   "metadata": {},
   "outputs": [
    {
     "data": {
      "text/html": [
       "<div>\n",
       "<style scoped>\n",
       "    .dataframe tbody tr th:only-of-type {\n",
       "        vertical-align: middle;\n",
       "    }\n",
       "\n",
       "    .dataframe tbody tr th {\n",
       "        vertical-align: top;\n",
       "    }\n",
       "\n",
       "    .dataframe thead th {\n",
       "        text-align: right;\n",
       "    }\n",
       "</style>\n",
       "<table border=\"1\" class=\"dataframe\">\n",
       "  <thead>\n",
       "    <tr style=\"text-align: right;\">\n",
       "      <th></th>\n",
       "      <th>rating</th>\n",
       "      <th>num of ratings</th>\n",
       "    </tr>\n",
       "    <tr>\n",
       "      <th>name</th>\n",
       "      <th></th>\n",
       "      <th></th>\n",
       "    </tr>\n",
       "  </thead>\n",
       "  <tbody>\n",
       "    <tr>\n",
       "      <th>&amp;quot;0&amp;quot;</th>\n",
       "      <td>2.769231</td>\n",
       "      <td>26</td>\n",
       "    </tr>\n",
       "    <tr>\n",
       "      <th>&amp;quot;Aesop&amp;quot; no Ohanashi yori: Ushi to Kaeru, Yokubatta Inu</th>\n",
       "      <td>0.000000</td>\n",
       "      <td>2</td>\n",
       "    </tr>\n",
       "    <tr>\n",
       "      <th>&amp;quot;Bungaku Shoujo&amp;quot; Kyou no Oyatsu: Hatsukoi</th>\n",
       "      <td>5.774936</td>\n",
       "      <td>782</td>\n",
       "    </tr>\n",
       "    <tr>\n",
       "      <th>&amp;quot;Bungaku Shoujo&amp;quot; Memoire</th>\n",
       "      <td>6.155748</td>\n",
       "      <td>809</td>\n",
       "    </tr>\n",
       "    <tr>\n",
       "      <th>&amp;quot;Bungaku Shoujo&amp;quot; Movie</th>\n",
       "      <td>6.457980</td>\n",
       "      <td>1535</td>\n",
       "    </tr>\n",
       "  </tbody>\n",
       "</table>\n",
       "</div>"
      ],
      "text/plain": [
       "                                                      rating  num of ratings\n",
       "name                                                                        \n",
       "&quot;0&quot;                                       2.769231              26\n",
       "&quot;Aesop&quot; no Ohanashi yori: Ushi to Kae...  0.000000               2\n",
       "&quot;Bungaku Shoujo&quot; Kyou no Oyatsu: Hats...  5.774936             782\n",
       "&quot;Bungaku Shoujo&quot; Memoire                  6.155748             809\n",
       "&quot;Bungaku Shoujo&quot; Movie                    6.457980            1535"
      ]
     },
     "execution_count": 13,
     "metadata": {},
     "output_type": "execute_result"
    }
   ],
   "source": [
    "ratings = pd.DataFrame(rating.groupby('name')['rating'].mean())\n",
    "ratings['num of ratings'] = pd.DataFrame(rating.groupby('name')['rating'].count())\n",
    "\n",
    "genre_dict = pd.DataFrame(data=anime[['name','genre']])\n",
    "genre_dict.set_index('name',inplace=True)\n",
    "ratings.head()"
   ]
  },
  {
   "cell_type": "code",
   "execution_count": null,
   "metadata": {},
   "outputs": [],
   "source": [
    "# Checking anime number of rating distribution "
   ]
  },
  {
   "cell_type": "code",
   "execution_count": null,
   "metadata": {},
   "outputs": [
    {
     "data": {
      "text/plain": [
       "Text(0, 0.5, 'No. of viewers')"
      ]
     },
     "execution_count": 30,
     "metadata": {},
     "output_type": "execute_result"
    },
    {
     "data": {
      "image/png": "[encoded data removed]",
      "text/plain": [
       "<Figure size 1080x360 with 1 Axes>"
      ]
     },
     "metadata": {
      "needs_background": "light"
     },
     "output_type": "display_data"
    }
   ],
   "source": [
    "plt.figure(figsize=(15,5))\n",
    "ratings['num of ratings'].hist(bins=300)\n",
    "plt.xlim(0,3000)\n",
    "plt.xlabel('No. of Animes')\n",
    "plt.ylabel('No. of viewers')"
   ]
  },
  {
   "cell_type": "code",
   "execution_count": null,
   "metadata": {},
   "outputs": [
    {
     "data": {
      "text/plain": [
       "Text(0, 0.5, 'No. of animes')"
      ]
     },
     "execution_count": 31,
     "metadata": {},
     "output_type": "execute_result"
    },
    {
     "data": {
      "image/png": "[encoded data removed]",
      "text/plain": [
       "<Figure size 432x288 with 1 Axes>"
      ]
     },
     "metadata": {
      "needs_background": "light"
     },
     "output_type": "display_data"
    }
   ],
   "source": [
    "ratings['rating'].hist(bins=50)\n",
    "plt.xlabel('Rating of Anime')\n",
    "plt.ylabel('No. of animes')\n"
   ]
  },
  {
   "cell_type": "code",
   "execution_count": null,
   "metadata": {},
   "outputs": [
    {
     "data": {
      "text/plain": [
       "<seaborn.axisgrid.JointGrid at 0x12bf7bac0>"
      ]
     },
     "execution_count": 17,
     "metadata": {},
     "output_type": "execute_result"
    },
    {
     "data": {
      "image/png": "[encoded data removed]",
      "text/plain": [
       "<Figure size 432x432 with 3 Axes>"
      ]
     },
     "metadata": {
      "needs_background": "light"
     },
     "output_type": "display_data"
    }
   ],
   "source": [
    "sns.jointplot(x='rating',y='num of ratings',data=ratings)"
   ]
  },
  {
   "cell_type": "code",
   "execution_count": null,
   "metadata": {},
   "outputs": [],
   "source": [
    "# From above scatterplot, we can see the higher number of users give rating, higher chance of the anime gets high rating too."
   ]
  },
  {
   "cell_type": "code",
   "execution_count": null,
   "metadata": {},
   "outputs": [],
   "source": [
    "# PART 3. FUNCTION CREATION\n",
    "\n",
    "# Now we wll create the function to be executed when a user accessing an anime page, so that user can get the recommendation based on that anime.\n",
    "# This recommendation will be generated based on ratings and genre."
   ]
  },
  {
   "cell_type": "code",
   "execution_count": null,
   "metadata": {},
   "outputs": [],
   "source": [
    "def check_genre(genre_list, string):\n",
    "    if any(x in string for x in genre_list):\n",
    "        return True\n",
    "    else:\n",
    "        return False\n",
    "\n",
    "\n",
    "def get_recommendation(name):\n",
    "    #generating list of anime with the same genre with target\n",
    "    anime_genre = genre_dict.loc[name].values[0].split(', ')\n",
    "    cols = anime[anime['genre'].apply(\n",
    "        lambda x: check_genre(anime_genre, str(x)))]['name'].tolist()\n",
    "\n",
    "    #create matrix based on generated list\n",
    "    animemat = rating[rating['name'].isin(cols)].pivot_table(\n",
    "        index='user_id', columns='name', values='rating')\n",
    "\n",
    "    #create correlation table\n",
    "    anime_user_rating = animemat[name]\n",
    "    similiar_anime = animemat.corrwith(anime_user_rating)\n",
    "    corr_anime = pd.DataFrame(similiar_anime, columns=['correlation'])\n",
    "    corr_anime = corr_anime.join(ratings['num of ratings'])\n",
    "    corr_anime.dropna(inplace=True)\n",
    "    corr_anime = corr_anime[corr_anime['num of ratings'] > 5000].sort_values(\n",
    "        'correlation', ascending=False)\n",
    "\n",
    "    return corr_anime.head(10)\n"
   ]
  },
  {
   "cell_type": "code",
   "execution_count": null,
   "metadata": {},
   "outputs": [],
   "source": [
    "# PART 4. TESTING"
   ]
  },
  {
   "cell_type": "code",
   "execution_count": null,
   "metadata": {},
   "outputs": [
    {
     "name": "stderr",
     "output_type": "stream",
     "text": [
      "/Library/Frameworks/Python.framework/Versions/3.10/lib/python3.10/site-packages/numpy/lib/function_base.py:2845: RuntimeWarning: Degrees of freedom <= 0 for slice\n",
      "  c = cov(x, y, rowvar, dtype=dtype)\n",
      "/Library/Frameworks/Python.framework/Versions/3.10/lib/python3.10/site-packages/numpy/lib/function_base.py:2704: RuntimeWarning: divide by zero encountered in divide\n",
      "  c *= np.true_divide(1, fact)\n"
     ]
    },
    {
     "data": {
      "text/html": [
       "<div>\n",
       "<style scoped>\n",
       "    .dataframe tbody tr th:only-of-type {\n",
       "        vertical-align: middle;\n",
       "    }\n",
       "\n",
       "    .dataframe tbody tr th {\n",
       "        vertical-align: top;\n",
       "    }\n",
       "\n",
       "    .dataframe thead th {\n",
       "        text-align: right;\n",
       "    }\n",
       "</style>\n",
       "<table border=\"1\" class=\"dataframe\">\n",
       "  <thead>\n",
       "    <tr style=\"text-align: right;\">\n",
       "      <th></th>\n",
       "      <th>correlation</th>\n",
       "      <th>num of ratings</th>\n",
       "    </tr>\n",
       "    <tr>\n",
       "      <th>name</th>\n",
       "      <th></th>\n",
       "      <th></th>\n",
       "    </tr>\n",
       "  </thead>\n",
       "  <tbody>\n",
       "    <tr>\n",
       "      <th>Shingeki no Kyojin</th>\n",
       "      <td>1.000000</td>\n",
       "      <td>29584</td>\n",
       "    </tr>\n",
       "    <tr>\n",
       "      <th>Suisei no Gargantia</th>\n",
       "      <td>0.752774</td>\n",
       "      <td>6371</td>\n",
       "    </tr>\n",
       "    <tr>\n",
       "      <th>Kami nomi zo Shiru Sekai: Megami-hen</th>\n",
       "      <td>0.750020</td>\n",
       "      <td>5733</td>\n",
       "    </tr>\n",
       "    <tr>\n",
       "      <th>Blood Lad</th>\n",
       "      <td>0.741779</td>\n",
       "      <td>8507</td>\n",
       "    </tr>\n",
       "    <tr>\n",
       "      <th>Hitsugi no Chaika</th>\n",
       "      <td>0.736769</td>\n",
       "      <td>5168</td>\n",
       "    </tr>\n",
       "    <tr>\n",
       "      <th>Maoyuu Maou Yuusha</th>\n",
       "      <td>0.732879</td>\n",
       "      <td>5693</td>\n",
       "    </tr>\n",
       "    <tr>\n",
       "      <th>Danganronpa: Kibou no Gakuen to Zetsubou no Koukousei The Animation</th>\n",
       "      <td>0.728270</td>\n",
       "      <td>10082</td>\n",
       "    </tr>\n",
       "    <tr>\n",
       "      <th>Magi: The Labyrinth of Magic</th>\n",
       "      <td>0.726442</td>\n",
       "      <td>9907</td>\n",
       "    </tr>\n",
       "    <tr>\n",
       "      <th>Psycho-Pass</th>\n",
       "      <td>0.726120</td>\n",
       "      <td>14008</td>\n",
       "    </tr>\n",
       "    <tr>\n",
       "      <th>Magi: The Kingdom of Magic</th>\n",
       "      <td>0.725571</td>\n",
       "      <td>7279</td>\n",
       "    </tr>\n",
       "  </tbody>\n",
       "</table>\n",
       "</div>"
      ],
      "text/plain": [
       "                                                    correlation  \\\n",
       "name                                                              \n",
       "Shingeki no Kyojin                                     1.000000   \n",
       "Suisei no Gargantia                                    0.752774   \n",
       "Kami nomi zo Shiru Sekai: Megami-hen                   0.750020   \n",
       "Blood Lad                                              0.741779   \n",
       "Hitsugi no Chaika                                      0.736769   \n",
       "Maoyuu Maou Yuusha                                     0.732879   \n",
       "Danganronpa: Kibou no Gakuen to Zetsubou no Kou...     0.728270   \n",
       "Magi: The Labyrinth of Magic                           0.726442   \n",
       "Psycho-Pass                                            0.726120   \n",
       "Magi: The Kingdom of Magic                             0.725571   \n",
       "\n",
       "                                                    num of ratings  \n",
       "name                                                                \n",
       "Shingeki no Kyojin                                           29584  \n",
       "Suisei no Gargantia                                           6371  \n",
       "Kami nomi zo Shiru Sekai: Megami-hen                          5733  \n",
       "Blood Lad                                                     8507  \n",
       "Hitsugi no Chaika                                             5168  \n",
       "Maoyuu Maou Yuusha                                            5693  \n",
       "Danganronpa: Kibou no Gakuen to Zetsubou no Kou...           10082  \n",
       "Magi: The Labyrinth of Magic                                  9907  \n",
       "Psycho-Pass                                                  14008  \n",
       "Magi: The Kingdom of Magic                                    7279  "
      ]
     },
     "execution_count": 22,
     "metadata": {},
     "output_type": "execute_result"
    }
   ],
   "source": [
    "get_recommendation('Shingeki no Kyojin')\n"
   ]
  },
  {
   "cell_type": "code",
   "execution_count": null,
   "metadata": {},
   "outputs": [
    {
     "name": "stderr",
     "output_type": "stream",
     "text": [
      "/Library/Frameworks/Python.framework/Versions/3.10/lib/python3.10/site-packages/numpy/lib/function_base.py:2845: RuntimeWarning: Degrees of freedom <= 0 for slice\n",
      "  c = cov(x, y, rowvar, dtype=dtype)\n",
      "/Library/Frameworks/Python.framework/Versions/3.10/lib/python3.10/site-packages/numpy/lib/function_base.py:2704: RuntimeWarning: divide by zero encountered in divide\n",
      "  c *= np.true_divide(1, fact)\n"
     ]
    },
    {
     "data": {
      "text/html": [
       "<div>\n",
       "<style scoped>\n",
       "    .dataframe tbody tr th:only-of-type {\n",
       "        vertical-align: middle;\n",
       "    }\n",
       "\n",
       "    .dataframe tbody tr th {\n",
       "        vertical-align: top;\n",
       "    }\n",
       "\n",
       "    .dataframe thead th {\n",
       "        text-align: right;\n",
       "    }\n",
       "</style>\n",
       "<table border=\"1\" class=\"dataframe\">\n",
       "  <thead>\n",
       "    <tr style=\"text-align: right;\">\n",
       "      <th></th>\n",
       "      <th>correlation</th>\n",
       "      <th>num of ratings</th>\n",
       "    </tr>\n",
       "    <tr>\n",
       "      <th>name</th>\n",
       "      <th></th>\n",
       "      <th></th>\n",
       "    </tr>\n",
       "  </thead>\n",
       "  <tbody>\n",
       "    <tr>\n",
       "      <th>Beelzebub</th>\n",
       "      <td>0.710506</td>\n",
       "      <td>5871</td>\n",
       "    </tr>\n",
       "    <tr>\n",
       "      <th>Amagami SS</th>\n",
       "      <td>0.705351</td>\n",
       "      <td>5497</td>\n",
       "    </tr>\n",
       "    <tr>\n",
       "      <th>Bakuman. 2nd Season</th>\n",
       "      <td>0.677092</td>\n",
       "      <td>6164</td>\n",
       "    </tr>\n",
       "    <tr>\n",
       "      <th>Re:Zero kara Hajimeru Isekai Seikatsu</th>\n",
       "      <td>0.671666</td>\n",
       "      <td>6123</td>\n",
       "    </tr>\n",
       "    <tr>\n",
       "      <th>Boku no Hero Academia</th>\n",
       "      <td>0.669247</td>\n",
       "      <td>6034</td>\n",
       "    </tr>\n",
       "    <tr>\n",
       "      <th>Shigatsu wa Kimi no Uso</th>\n",
       "      <td>0.667975</td>\n",
       "      <td>9448</td>\n",
       "    </tr>\n",
       "    <tr>\n",
       "      <th>Dance in the Vampire Bund</th>\n",
       "      <td>0.667899</td>\n",
       "      <td>5174</td>\n",
       "    </tr>\n",
       "    <tr>\n",
       "      <th>Princess Lover!</th>\n",
       "      <td>0.665735</td>\n",
       "      <td>5005</td>\n",
       "    </tr>\n",
       "    <tr>\n",
       "      <th>Eureka Seven</th>\n",
       "      <td>0.665077</td>\n",
       "      <td>7851</td>\n",
       "    </tr>\n",
       "    <tr>\n",
       "      <th>Ansatsu Kyoushitsu (TV)</th>\n",
       "      <td>0.661141</td>\n",
       "      <td>6441</td>\n",
       "    </tr>\n",
       "  </tbody>\n",
       "</table>\n",
       "</div>"
      ],
      "text/plain": [
       "                                       correlation  num of ratings\n",
       "name                                                              \n",
       "Beelzebub                                 0.710506            5871\n",
       "Amagami SS                                0.705351            5497\n",
       "Bakuman. 2nd Season                       0.677092            6164\n",
       "Re:Zero kara Hajimeru Isekai Seikatsu     0.671666            6123\n",
       "Boku no Hero Academia                     0.669247            6034\n",
       "Shigatsu wa Kimi no Uso                   0.667975            9448\n",
       "Dance in the Vampire Bund                 0.667899            5174\n",
       "Princess Lover!                           0.665735            5005\n",
       "Eureka Seven                              0.665077            7851\n",
       "Ansatsu Kyoushitsu (TV)                   0.661141            6441"
      ]
     },
     "execution_count": 23,
     "metadata": {},
     "output_type": "execute_result"
    }
   ],
   "source": [
    "get_recommendation('Kimi no Na wa.')\n"
   ]
  },
  {
   "cell_type": "code",
   "execution_count": null,
   "metadata": {},
   "outputs": [
    {
     "name": "stderr",
     "output_type": "stream",
     "text": [
      "/Library/Frameworks/Python.framework/Versions/3.10/lib/python3.10/site-packages/numpy/lib/function_base.py:2845: RuntimeWarning: Degrees of freedom <= 0 for slice\n",
      "  c = cov(x, y, rowvar, dtype=dtype)\n",
      "/Library/Frameworks/Python.framework/Versions/3.10/lib/python3.10/site-packages/numpy/lib/function_base.py:2704: RuntimeWarning: divide by zero encountered in divide\n",
      "  c *= np.true_divide(1, fact)\n"
     ]
    },
    {
     "data": {
      "text/html": [
       "<div>\n",
       "<style scoped>\n",
       "    .dataframe tbody tr th:only-of-type {\n",
       "        vertical-align: middle;\n",
       "    }\n",
       "\n",
       "    .dataframe tbody tr th {\n",
       "        vertical-align: top;\n",
       "    }\n",
       "\n",
       "    .dataframe thead th {\n",
       "        text-align: right;\n",
       "    }\n",
       "</style>\n",
       "<table border=\"1\" class=\"dataframe\">\n",
       "  <thead>\n",
       "    <tr style=\"text-align: right;\">\n",
       "      <th></th>\n",
       "      <th>correlation</th>\n",
       "      <th>num of ratings</th>\n",
       "    </tr>\n",
       "    <tr>\n",
       "      <th>name</th>\n",
       "      <th></th>\n",
       "      <th></th>\n",
       "    </tr>\n",
       "  </thead>\n",
       "  <tbody>\n",
       "    <tr>\n",
       "      <th>Naruto</th>\n",
       "      <td>1.000000</td>\n",
       "      <td>25925</td>\n",
       "    </tr>\n",
       "    <tr>\n",
       "      <th>Bleach</th>\n",
       "      <td>0.720531</td>\n",
       "      <td>12845</td>\n",
       "    </tr>\n",
       "    <tr>\n",
       "      <th>InuYasha</th>\n",
       "      <td>0.704638</td>\n",
       "      <td>9328</td>\n",
       "    </tr>\n",
       "    <tr>\n",
       "      <th>Shaman King</th>\n",
       "      <td>0.696407</td>\n",
       "      <td>7814</td>\n",
       "    </tr>\n",
       "    <tr>\n",
       "      <th>Katekyo Hitman Reborn!</th>\n",
       "      <td>0.694202</td>\n",
       "      <td>6739</td>\n",
       "    </tr>\n",
       "    <tr>\n",
       "      <th>Tenjou Tenge</th>\n",
       "      <td>0.691476</td>\n",
       "      <td>5150</td>\n",
       "    </tr>\n",
       "    <tr>\n",
       "      <th>Sekirei</th>\n",
       "      <td>0.691413</td>\n",
       "      <td>7924</td>\n",
       "    </tr>\n",
       "    <tr>\n",
       "      <th>Rurouni Kenshin: Meiji Kenkaku Romantan</th>\n",
       "      <td>0.690855</td>\n",
       "      <td>7900</td>\n",
       "    </tr>\n",
       "    <tr>\n",
       "      <th>Shijou Saikyou no Deshi Kenichi</th>\n",
       "      <td>0.690250</td>\n",
       "      <td>5654</td>\n",
       "    </tr>\n",
       "    <tr>\n",
       "      <th>Tsubasa Chronicle</th>\n",
       "      <td>0.688495</td>\n",
       "      <td>5465</td>\n",
       "    </tr>\n",
       "  </tbody>\n",
       "</table>\n",
       "</div>"
      ],
      "text/plain": [
       "                                         correlation  num of ratings\n",
       "name                                                                \n",
       "Naruto                                      1.000000           25925\n",
       "Bleach                                      0.720531           12845\n",
       "InuYasha                                    0.704638            9328\n",
       "Shaman King                                 0.696407            7814\n",
       "Katekyo Hitman Reborn!                      0.694202            6739\n",
       "Tenjou Tenge                                0.691476            5150\n",
       "Sekirei                                     0.691413            7924\n",
       "Rurouni Kenshin: Meiji Kenkaku Romantan     0.690855            7900\n",
       "Shijou Saikyou no Deshi Kenichi             0.690250            5654\n",
       "Tsubasa Chronicle                           0.688495            5465"
      ]
     },
     "execution_count": 24,
     "metadata": {},
     "output_type": "execute_result"
    }
   ],
   "source": [
    "get_recommendation('Naruto')\n"
   ]
  },
  {
   "cell_type": "code",
   "execution_count": null,
   "metadata": {},
   "outputs": [
    {
     "name": "stderr",
     "output_type": "stream",
     "text": [
      "/Library/Frameworks/Python.framework/Versions/3.10/lib/python3.10/site-packages/numpy/lib/function_base.py:2845: RuntimeWarning: Degrees of freedom <= 0 for slice\n",
      "  c = cov(x, y, rowvar, dtype=dtype)\n",
      "/Library/Frameworks/Python.framework/Versions/3.10/lib/python3.10/site-packages/numpy/lib/function_base.py:2704: RuntimeWarning: divide by zero encountered in divide\n",
      "  c *= np.true_divide(1, fact)\n"
     ]
    },
    {
     "data": {
      "text/html": [
       "<div>\n",
       "<style scoped>\n",
       "    .dataframe tbody tr th:only-of-type {\n",
       "        vertical-align: middle;\n",
       "    }\n",
       "\n",
       "    .dataframe tbody tr th {\n",
       "        vertical-align: top;\n",
       "    }\n",
       "\n",
       "    .dataframe thead th {\n",
       "        text-align: right;\n",
       "    }\n",
       "</style>\n",
       "<table border=\"1\" class=\"dataframe\">\n",
       "  <thead>\n",
       "    <tr style=\"text-align: right;\">\n",
       "      <th></th>\n",
       "      <th>correlation</th>\n",
       "      <th>num of ratings</th>\n",
       "    </tr>\n",
       "    <tr>\n",
       "      <th>name</th>\n",
       "      <th></th>\n",
       "      <th></th>\n",
       "    </tr>\n",
       "  </thead>\n",
       "  <tbody>\n",
       "    <tr>\n",
       "      <th>Mushishi</th>\n",
       "      <td>1.000000</td>\n",
       "      <td>7004</td>\n",
       "    </tr>\n",
       "    <tr>\n",
       "      <th>D-Frag!</th>\n",
       "      <td>0.728374</td>\n",
       "      <td>5124</td>\n",
       "    </tr>\n",
       "    <tr>\n",
       "      <th>Samurai Champloo</th>\n",
       "      <td>0.720465</td>\n",
       "      <td>14068</td>\n",
       "    </tr>\n",
       "    <tr>\n",
       "      <th>Natsume Yuujinchou</th>\n",
       "      <td>0.720205</td>\n",
       "      <td>6052</td>\n",
       "    </tr>\n",
       "    <tr>\n",
       "      <th>Hitsugi no Chaika</th>\n",
       "      <td>0.711976</td>\n",
       "      <td>5168</td>\n",
       "    </tr>\n",
       "    <tr>\n",
       "      <th>Arakawa Under the Bridge</th>\n",
       "      <td>0.710618</td>\n",
       "      <td>5732</td>\n",
       "    </tr>\n",
       "    <tr>\n",
       "      <th>Ghost in the Shell: Stand Alone Complex</th>\n",
       "      <td>0.706540</td>\n",
       "      <td>6329</td>\n",
       "    </tr>\n",
       "    <tr>\n",
       "      <th>Kami nomi zo Shiru Sekai: Megami-hen</th>\n",
       "      <td>0.706520</td>\n",
       "      <td>5733</td>\n",
       "    </tr>\n",
       "    <tr>\n",
       "      <th>Kami nomi zo Shiru Sekai II</th>\n",
       "      <td>0.705563</td>\n",
       "      <td>9235</td>\n",
       "    </tr>\n",
       "    <tr>\n",
       "      <th>Nichijou</th>\n",
       "      <td>0.703834</td>\n",
       "      <td>5825</td>\n",
       "    </tr>\n",
       "  </tbody>\n",
       "</table>\n",
       "</div>"
      ],
      "text/plain": [
       "                                         correlation  num of ratings\n",
       "name                                                                \n",
       "Mushishi                                    1.000000            7004\n",
       "D-Frag!                                     0.728374            5124\n",
       "Samurai Champloo                            0.720465           14068\n",
       "Natsume Yuujinchou                          0.720205            6052\n",
       "Hitsugi no Chaika                           0.711976            5168\n",
       "Arakawa Under the Bridge                    0.710618            5732\n",
       "Ghost in the Shell: Stand Alone Complex     0.706540            6329\n",
       "Kami nomi zo Shiru Sekai: Megami-hen        0.706520            5733\n",
       "Kami nomi zo Shiru Sekai II                 0.705563            9235\n",
       "Nichijou                                    0.703834            5825"
      ]
     },
     "execution_count": 25,
     "metadata": {},
     "output_type": "execute_result"
    }
   ],
   "source": [
    "get_recommendation('Mushishi')\n"
   ]
  },
  {
   "cell_type": "code",
   "execution_count": null,
   "metadata": {},
   "outputs": [
    {
     "name": "stderr",
     "output_type": "stream",
     "text": [
      "/Library/Frameworks/Python.framework/Versions/3.10/lib/python3.10/site-packages/numpy/lib/function_base.py:2845: RuntimeWarning: Degrees of freedom <= 0 for slice\n",
      "  c = cov(x, y, rowvar, dtype=dtype)\n",
      "/Library/Frameworks/Python.framework/Versions/3.10/lib/python3.10/site-packages/numpy/lib/function_base.py:2704: RuntimeWarning: divide by zero encountered in divide\n",
      "  c *= np.true_divide(1, fact)\n"
     ]
    },
    {
     "data": {
      "text/html": [
       "<div>\n",
       "<style scoped>\n",
       "    .dataframe tbody tr th:only-of-type {\n",
       "        vertical-align: middle;\n",
       "    }\n",
       "\n",
       "    .dataframe tbody tr th {\n",
       "        vertical-align: top;\n",
       "    }\n",
       "\n",
       "    .dataframe thead th {\n",
       "        text-align: right;\n",
       "    }\n",
       "</style>\n",
       "<table border=\"1\" class=\"dataframe\">\n",
       "  <thead>\n",
       "    <tr style=\"text-align: right;\">\n",
       "      <th></th>\n",
       "      <th>correlation</th>\n",
       "      <th>num of ratings</th>\n",
       "    </tr>\n",
       "    <tr>\n",
       "      <th>name</th>\n",
       "      <th></th>\n",
       "      <th></th>\n",
       "    </tr>\n",
       "  </thead>\n",
       "  <tbody>\n",
       "    <tr>\n",
       "      <th>Noragami</th>\n",
       "      <td>1.000000</td>\n",
       "      <td>15070</td>\n",
       "    </tr>\n",
       "    <tr>\n",
       "      <th>Hitsugi no Chaika</th>\n",
       "      <td>0.798425</td>\n",
       "      <td>5168</td>\n",
       "    </tr>\n",
       "    <tr>\n",
       "      <th>Kami nomi zo Shiru Sekai: Megami-hen</th>\n",
       "      <td>0.792456</td>\n",
       "      <td>5733</td>\n",
       "    </tr>\n",
       "    <tr>\n",
       "      <th>Kyoukai no Kanata</th>\n",
       "      <td>0.791119</td>\n",
       "      <td>11152</td>\n",
       "    </tr>\n",
       "    <tr>\n",
       "      <th>Suisei no Gargantia</th>\n",
       "      <td>0.789261</td>\n",
       "      <td>6371</td>\n",
       "    </tr>\n",
       "    <tr>\n",
       "      <th>Nisekoi</th>\n",
       "      <td>0.784901</td>\n",
       "      <td>10337</td>\n",
       "    </tr>\n",
       "    <tr>\n",
       "      <th>Magi: The Kingdom of Magic</th>\n",
       "      <td>0.783770</td>\n",
       "      <td>7279</td>\n",
       "    </tr>\n",
       "    <tr>\n",
       "      <th>Strike the Blood</th>\n",
       "      <td>0.776561</td>\n",
       "      <td>6434</td>\n",
       "    </tr>\n",
       "    <tr>\n",
       "      <th>Monogatari Series: Second Season</th>\n",
       "      <td>0.776080</td>\n",
       "      <td>6058</td>\n",
       "    </tr>\n",
       "    <tr>\n",
       "      <th>Log Horizon</th>\n",
       "      <td>0.775412</td>\n",
       "      <td>11187</td>\n",
       "    </tr>\n",
       "  </tbody>\n",
       "</table>\n",
       "</div>"
      ],
      "text/plain": [
       "                                      correlation  num of ratings\n",
       "name                                                             \n",
       "Noragami                                 1.000000           15070\n",
       "Hitsugi no Chaika                        0.798425            5168\n",
       "Kami nomi zo Shiru Sekai: Megami-hen     0.792456            5733\n",
       "Kyoukai no Kanata                        0.791119           11152\n",
       "Suisei no Gargantia                      0.789261            6371\n",
       "Nisekoi                                  0.784901           10337\n",
       "Magi: The Kingdom of Magic               0.783770            7279\n",
       "Strike the Blood                         0.776561            6434\n",
       "Monogatari Series: Second Season         0.776080            6058\n",
       "Log Horizon                              0.775412           11187"
      ]
     },
     "execution_count": 26,
     "metadata": {},
     "output_type": "execute_result"
    }
   ],
   "source": [
    "get_recommendation('Noragami')\n"
   ]
  },
  {
   "cell_type": "code",
   "execution_count": null,
   "metadata": {},
   "outputs": [
    {
     "name": "stdout",
     "output_type": "stream",
     "text": [
      "There are 1 duplicate entries among 7813737 entries in rating dataset.\n",
      "\n",
      "After removing duplicate entries there are 7813736 entries in this dataset.\n"
     ]
    }
   ],
   "source": [
    "dup_rating = rating[rating.duplicated()].shape[0]\n",
    "print(\n",
    "    f\"There are {dup_rating} duplicate entries among {rating.shape[0]} entries in rating dataset.\")\n",
    "\n",
    "rating.drop_duplicates(keep='first', inplace=True)\n",
    "print(\n",
    "    f\"\\nAfter removing duplicate entries there are {rating.shape[0]} entries in this dataset.\")\n"
   ]
  },
  {
   "cell_type": "code",
   "execution_count": null,
   "metadata": {},
   "outputs": [
    {
     "name": "stdout",
     "output_type": "stream",
     "text": [
      "Collecting Jinja2\n",
      "  Using cached Jinja2-3.1.2-py3-none-any.whl (133 kB)\n",
      "Collecting MarkupSafe>=2.0\n",
      "  Downloading MarkupSafe-2.1.1-cp310-cp310-macosx_10_9_x86_64.whl (13 kB)\n",
      "Installing collected packages: MarkupSafe, Jinja2\n",
      "Successfully installed Jinja2-3.1.2 MarkupSafe-2.1.1\n",
      "--- Logging error ---\n",
      "Traceback (most recent call last):\n",
      "  File \"/Library/Frameworks/Python.framework/Versions/3.10/lib/python3.10/site-packages/pip/_internal/utils/logging.py\", line 177, in emit\n",
      "    self.console.print(renderable, overflow=\"ignore\", crop=False, style=style)\n",
      "  File \"/Library/Frameworks/Python.framework/Versions/3.10/lib/python3.10/site-packages/pip/_vendor/rich/console.py\", line 1673, in print\n",
      "    extend(render(renderable, render_options))\n",
      "  File \"/Library/Frameworks/Python.framework/Versions/3.10/lib/python3.10/site-packages/pip/_vendor/rich/console.py\", line 1305, in render\n",
      "    for render_output in iter_render:\n",
      "  File \"/Library/Frameworks/Python.framework/Versions/3.10/lib/python3.10/site-packages/pip/_internal/utils/logging.py\", line 134, in __rich_console__\n",
      "    for line in lines:\n",
      "  File \"/Library/Frameworks/Python.framework/Versions/3.10/lib/python3.10/site-packages/pip/_vendor/rich/segment.py\", line 249, in split_lines\n",
      "    for segment in segments:\n",
      "  File \"/Library/Frameworks/Python.framework/Versions/3.10/lib/python3.10/site-packages/pip/_vendor/rich/console.py\", line 1283, in render\n",
      "    renderable = rich_cast(renderable)\n",
      "  File \"/Library/Frameworks/Python.framework/Versions/3.10/lib/python3.10/site-packages/pip/_vendor/rich/protocol.py\", line 36, in rich_cast\n",
      "    renderable = cast_method()\n",
      "  File \"/Library/Frameworks/Python.framework/Versions/3.10/lib/python3.10/site-packages/pip/_internal/self_outdated_check.py\", line 130, in __rich__\n",
      "    pip_cmd = get_best_invocation_for_this_pip()\n",
      "  File \"/Library/Frameworks/Python.framework/Versions/3.10/lib/python3.10/site-packages/pip/_internal/utils/entrypoints.py\", line 58, in get_best_invocation_for_this_pip\n",
      "    if found_executable and os.path.samefile(\n",
      "  File \"/Library/Frameworks/Python.framework/Versions/3.10/lib/python3.10/genericpath.py\", line 101, in samefile\n",
      "    s2 = os.stat(f2)\n",
      "FileNotFoundError: [Errno 2] No such file or directory: '/Library/Frameworks/Python.framework/Versions/3.10/bin/pip'\n",
      "Call stack:\n",
      "  File \"/Library/Frameworks/Python.framework/Versions/3.10/lib/python3.10/runpy.py\", line 196, in _run_module_as_main\n",
      "    return _run_code(code, main_globals, None,\n",
      "  File \"/Library/Frameworks/Python.framework/Versions/3.10/lib/python3.10/runpy.py\", line 86, in _run_code\n",
      "    exec(code, run_globals)\n",
      "  File \"/Library/Frameworks/Python.framework/Versions/3.10/lib/python3.10/site-packages/pip/__main__.py\", line 31, in <module>\n",
      "    sys.exit(_main())\n",
      "  File \"/Library/Frameworks/Python.framework/Versions/3.10/lib/python3.10/site-packages/pip/_internal/cli/main.py\", line 70, in main\n",
      "    return command.main(cmd_args)\n",
      "  File \"/Library/Frameworks/Python.framework/Versions/3.10/lib/python3.10/site-packages/pip/_internal/cli/base_command.py\", line 101, in main\n",
      "    return self._main(args)\n",
      "  File \"/Library/Frameworks/Python.framework/Versions/3.10/lib/python3.10/site-packages/pip/_internal/cli/base_command.py\", line 223, in _main\n",
      "    self.handle_pip_version_check(options)\n",
      "  File \"/Library/Frameworks/Python.framework/Versions/3.10/lib/python3.10/site-packages/pip/_internal/cli/req_command.py\", line 190, in handle_pip_version_check\n",
      "    pip_self_version_check(session, options)\n",
      "  File \"/Library/Frameworks/Python.framework/Versions/3.10/lib/python3.10/site-packages/pip/_internal/self_outdated_check.py\", line 236, in pip_self_version_check\n",
      "    logger.warning(\"[present-rich] %s\", upgrade_prompt)\n",
      "  File \"/Library/Frameworks/Python.framework/Versions/3.10/lib/python3.10/logging/__init__.py\", line 1489, in warning\n",
      "    self._log(WARNING, msg, args, **kwargs)\n",
      "  File \"/Library/Frameworks/Python.framework/Versions/3.10/lib/python3.10/logging/__init__.py\", line 1624, in _log\n",
      "    self.handle(record)\n",
      "  File \"/Library/Frameworks/Python.framework/Versions/3.10/lib/python3.10/logging/__init__.py\", line 1634, in handle\n",
      "    self.callHandlers(record)\n",
      "  File \"/Library/Frameworks/Python.framework/Versions/3.10/lib/python3.10/logging/__init__.py\", line 1696, in callHandlers\n",
      "    hdlr.handle(record)\n",
      "  File \"/Library/Frameworks/Python.framework/Versions/3.10/lib/python3.10/logging/__init__.py\", line 968, in handle\n",
      "    self.emit(record)\n",
      "  File \"/Library/Frameworks/Python.framework/Versions/3.10/lib/python3.10/site-packages/pip/_internal/utils/logging.py\", line 179, in emit\n",
      "    self.handleError(record)\n",
      "Message: '[present-rich] %s'\n",
      "Arguments: (UpgradePrompt(old='22.2.2', new='22.3.1'),)\n",
      "Note: you may need to restart the kernel to use updated packages.\n"
     ]
    }
   ],
   "source": [
    "%pip install Jinja2"
   ]
  },
  {
   "cell_type": "code",
   "execution_count": 3,
   "metadata": {},
   "outputs": [
    {
     "ename": "NameError",
     "evalue": "name 'anime' is not defined",
     "output_type": "error",
     "traceback": [
      "\u001b[0;31m---------------------------------------------------------------------------\u001b[0m",
      "\u001b[0;31mNameError\u001b[0m                                 Traceback (most recent call last)",
      "\u001b[1;32m/Users/aryanlodha/Desktop/Sem 5 Files/Data Mining Lab/Anime Reccomendations System/model copy.ipynb Cell 27\u001b[0m in \u001b[0;36m<cell line: 1>\u001b[0;34m()\u001b[0m\n\u001b[0;32m----> <a href='vscode-notebook-cell:/Users/aryanlodha/Desktop/Sem%205%20Files/Data%20Mining%20Lab/Anime%20Reccomendations%20System/model%20copy.ipynb#X35sZmlsZQ%3D%3D?line=0'>1</a>\u001b[0m fulldata \u001b[39m=\u001b[39m pd\u001b[39m.\u001b[39mmerge(anime,rating,on\u001b[39m=\u001b[39m\u001b[39m\"\u001b[39m\u001b[39manime_id\u001b[39m\u001b[39m\"\u001b[39m,suffixes\u001b[39m=\u001b[39m [\u001b[39mNone\u001b[39;00m, \u001b[39m\"\u001b[39m\u001b[39m_user\u001b[39m\u001b[39m\"\u001b[39m])\n\u001b[1;32m      <a href='vscode-notebook-cell:/Users/aryanlodha/Desktop/Sem%205%20Files/Data%20Mining%20Lab/Anime%20Reccomendations%20System/model%20copy.ipynb#X35sZmlsZQ%3D%3D?line=1'>2</a>\u001b[0m fulldata \u001b[39m=\u001b[39m fulldata\u001b[39m.\u001b[39mrename(columns\u001b[39m=\u001b[39m{\u001b[39m\"\u001b[39m\u001b[39mrating_user\u001b[39m\u001b[39m\"\u001b[39m: \u001b[39m\"\u001b[39m\u001b[39muser_rating\u001b[39m\u001b[39m\"\u001b[39m})\n\u001b[1;32m      <a href='vscode-notebook-cell:/Users/aryanlodha/Desktop/Sem%205%20Files/Data%20Mining%20Lab/Anime%20Reccomendations%20System/model%20copy.ipynb#X35sZmlsZQ%3D%3D?line=3'>4</a>\u001b[0m \u001b[39mprint\u001b[39m(\u001b[39mf\u001b[39m\u001b[39m\"\u001b[39m\u001b[39mShape of The Merged Dataset : \u001b[39m\u001b[39m{\u001b[39;00mfulldata\u001b[39m.\u001b[39mshape\u001b[39m}\u001b[39;00m\u001b[39m\"\u001b[39m)\n",
      "\u001b[0;31mNameError\u001b[0m: name 'anime' is not defined"
     ]
    }
   ],
   "source": [
    "fulldata = pd.merge(anime,rating,on=\"anime_id\",suffixes= [None, \"_user\"])\n",
    "fulldata = fulldata.rename(columns={\"rating_user\": \"user_rating\"})\n",
    "\n",
    "print(f\"Shape of The Merged Dataset : {fulldata.shape}\")\n",
    "print(f\"\\nGlimpse of The Merged Dataset :\")\n",
    "\n",
    "fulldata.head().style.set_properties(**{\"background-color\": \"#2a9d8f\",\"color\":\"white\",\"border\": \"1.5px  solid black\"})"
   ]
  },
  {
   "cell_type": "code",
   "execution_count": null,
   "metadata": {},
   "outputs": [],
   "source": []
  },
  {
   "cell_type": "code",
   "execution_count": null,
   "metadata": {},
   "outputs": [
    {
     "name": "stdout",
     "output_type": "stream",
     "text": [
      "Shape of The Merged Dataset : (7813726, 9)\n",
      "\n",
      "Glimpse of The Merged Dataset :\n"
     ]
    },
    {
     "data": {
      "text/html": [
       "<style type=\"text/css\">\n",
       "#T_92c0f_row0_col0, #T_92c0f_row0_col1, #T_92c0f_row0_col2, #T_92c0f_row0_col3, #T_92c0f_row0_col4, #T_92c0f_row0_col5, #T_92c0f_row0_col6, #T_92c0f_row0_col7, #T_92c0f_row0_col8, #T_92c0f_row1_col0, #T_92c0f_row1_col1, #T_92c0f_row1_col2, #T_92c0f_row1_col3, #T_92c0f_row1_col4, #T_92c0f_row1_col5, #T_92c0f_row1_col6, #T_92c0f_row1_col7, #T_92c0f_row1_col8, #T_92c0f_row2_col0, #T_92c0f_row2_col1, #T_92c0f_row2_col2, #T_92c0f_row2_col3, #T_92c0f_row2_col4, #T_92c0f_row2_col5, #T_92c0f_row2_col6, #T_92c0f_row2_col7, #T_92c0f_row2_col8, #T_92c0f_row3_col0, #T_92c0f_row3_col1, #T_92c0f_row3_col2, #T_92c0f_row3_col3, #T_92c0f_row3_col4, #T_92c0f_row3_col5, #T_92c0f_row3_col6, #T_92c0f_row3_col7, #T_92c0f_row3_col8, #T_92c0f_row4_col0, #T_92c0f_row4_col1, #T_92c0f_row4_col2, #T_92c0f_row4_col3, #T_92c0f_row4_col4, #T_92c0f_row4_col5, #T_92c0f_row4_col6, #T_92c0f_row4_col7, #T_92c0f_row4_col8 {\n",
       "  background-color: #2a9d8f;\n",
       "  color: white;\n",
       "  border: 1.5px  solid black;\n",
       "}\n",
       "</style>\n",
       "<table id=\"T_92c0f\">\n",
       "  <thead>\n",
       "    <tr>\n",
       "      <th class=\"blank level0\" >&nbsp;</th>\n",
       "      <th id=\"T_92c0f_level0_col0\" class=\"col_heading level0 col0\" >anime_id</th>\n",
       "      <th id=\"T_92c0f_level0_col1\" class=\"col_heading level0 col1\" >name</th>\n",
       "      <th id=\"T_92c0f_level0_col2\" class=\"col_heading level0 col2\" >genre</th>\n",
       "      <th id=\"T_92c0f_level0_col3\" class=\"col_heading level0 col3\" >type</th>\n",
       "      <th id=\"T_92c0f_level0_col4\" class=\"col_heading level0 col4\" >episodes</th>\n",
       "      <th id=\"T_92c0f_level0_col5\" class=\"col_heading level0 col5\" >rating</th>\n",
       "      <th id=\"T_92c0f_level0_col6\" class=\"col_heading level0 col6\" >members</th>\n",
       "      <th id=\"T_92c0f_level0_col7\" class=\"col_heading level0 col7\" >user_id</th>\n",
       "      <th id=\"T_92c0f_level0_col8\" class=\"col_heading level0 col8\" >user_rating</th>\n",
       "    </tr>\n",
       "  </thead>\n",
       "  <tbody>\n",
       "    <tr>\n",
       "      <th id=\"T_92c0f_level0_row0\" class=\"row_heading level0 row0\" >0</th>\n",
       "      <td id=\"T_92c0f_row0_col0\" class=\"data row0 col0\" >32281</td>\n",
       "      <td id=\"T_92c0f_row0_col1\" class=\"data row0 col1\" >Kimi no Na wa.</td>\n",
       "      <td id=\"T_92c0f_row0_col2\" class=\"data row0 col2\" >Drama, Romance, School, Supernatural</td>\n",
       "      <td id=\"T_92c0f_row0_col3\" class=\"data row0 col3\" >Movie</td>\n",
       "      <td id=\"T_92c0f_row0_col4\" class=\"data row0 col4\" >1</td>\n",
       "      <td id=\"T_92c0f_row0_col5\" class=\"data row0 col5\" >9.370000</td>\n",
       "      <td id=\"T_92c0f_row0_col6\" class=\"data row0 col6\" >200630</td>\n",
       "      <td id=\"T_92c0f_row0_col7\" class=\"data row0 col7\" >99</td>\n",
       "      <td id=\"T_92c0f_row0_col8\" class=\"data row0 col8\" >5</td>\n",
       "    </tr>\n",
       "    <tr>\n",
       "      <th id=\"T_92c0f_level0_row1\" class=\"row_heading level0 row1\" >1</th>\n",
       "      <td id=\"T_92c0f_row1_col0\" class=\"data row1 col0\" >32281</td>\n",
       "      <td id=\"T_92c0f_row1_col1\" class=\"data row1 col1\" >Kimi no Na wa.</td>\n",
       "      <td id=\"T_92c0f_row1_col2\" class=\"data row1 col2\" >Drama, Romance, School, Supernatural</td>\n",
       "      <td id=\"T_92c0f_row1_col3\" class=\"data row1 col3\" >Movie</td>\n",
       "      <td id=\"T_92c0f_row1_col4\" class=\"data row1 col4\" >1</td>\n",
       "      <td id=\"T_92c0f_row1_col5\" class=\"data row1 col5\" >9.370000</td>\n",
       "      <td id=\"T_92c0f_row1_col6\" class=\"data row1 col6\" >200630</td>\n",
       "      <td id=\"T_92c0f_row1_col7\" class=\"data row1 col7\" >152</td>\n",
       "      <td id=\"T_92c0f_row1_col8\" class=\"data row1 col8\" >10</td>\n",
       "    </tr>\n",
       "    <tr>\n",
       "      <th id=\"T_92c0f_level0_row2\" class=\"row_heading level0 row2\" >2</th>\n",
       "      <td id=\"T_92c0f_row2_col0\" class=\"data row2 col0\" >32281</td>\n",
       "      <td id=\"T_92c0f_row2_col1\" class=\"data row2 col1\" >Kimi no Na wa.</td>\n",
       "      <td id=\"T_92c0f_row2_col2\" class=\"data row2 col2\" >Drama, Romance, School, Supernatural</td>\n",
       "      <td id=\"T_92c0f_row2_col3\" class=\"data row2 col3\" >Movie</td>\n",
       "      <td id=\"T_92c0f_row2_col4\" class=\"data row2 col4\" >1</td>\n",
       "      <td id=\"T_92c0f_row2_col5\" class=\"data row2 col5\" >9.370000</td>\n",
       "      <td id=\"T_92c0f_row2_col6\" class=\"data row2 col6\" >200630</td>\n",
       "      <td id=\"T_92c0f_row2_col7\" class=\"data row2 col7\" >244</td>\n",
       "      <td id=\"T_92c0f_row2_col8\" class=\"data row2 col8\" >10</td>\n",
       "    </tr>\n",
       "    <tr>\n",
       "      <th id=\"T_92c0f_level0_row3\" class=\"row_heading level0 row3\" >3</th>\n",
       "      <td id=\"T_92c0f_row3_col0\" class=\"data row3 col0\" >32281</td>\n",
       "      <td id=\"T_92c0f_row3_col1\" class=\"data row3 col1\" >Kimi no Na wa.</td>\n",
       "      <td id=\"T_92c0f_row3_col2\" class=\"data row3 col2\" >Drama, Romance, School, Supernatural</td>\n",
       "      <td id=\"T_92c0f_row3_col3\" class=\"data row3 col3\" >Movie</td>\n",
       "      <td id=\"T_92c0f_row3_col4\" class=\"data row3 col4\" >1</td>\n",
       "      <td id=\"T_92c0f_row3_col5\" class=\"data row3 col5\" >9.370000</td>\n",
       "      <td id=\"T_92c0f_row3_col6\" class=\"data row3 col6\" >200630</td>\n",
       "      <td id=\"T_92c0f_row3_col7\" class=\"data row3 col7\" >271</td>\n",
       "      <td id=\"T_92c0f_row3_col8\" class=\"data row3 col8\" >10</td>\n",
       "    </tr>\n",
       "    <tr>\n",
       "      <th id=\"T_92c0f_level0_row4\" class=\"row_heading level0 row4\" >4</th>\n",
       "      <td id=\"T_92c0f_row4_col0\" class=\"data row4 col0\" >32281</td>\n",
       "      <td id=\"T_92c0f_row4_col1\" class=\"data row4 col1\" >Kimi no Na wa.</td>\n",
       "      <td id=\"T_92c0f_row4_col2\" class=\"data row4 col2\" >Drama, Romance, School, Supernatural</td>\n",
       "      <td id=\"T_92c0f_row4_col3\" class=\"data row4 col3\" >Movie</td>\n",
       "      <td id=\"T_92c0f_row4_col4\" class=\"data row4 col4\" >1</td>\n",
       "      <td id=\"T_92c0f_row4_col5\" class=\"data row4 col5\" >9.370000</td>\n",
       "      <td id=\"T_92c0f_row4_col6\" class=\"data row4 col6\" >200630</td>\n",
       "      <td id=\"T_92c0f_row4_col7\" class=\"data row4 col7\" >278</td>\n",
       "      <td id=\"T_92c0f_row4_col8\" class=\"data row4 col8\" >-1</td>\n",
       "    </tr>\n",
       "  </tbody>\n",
       "</table>\n"
      ],
      "text/plain": [
       "<pandas.io.formats.style.Styler at 0x12d6c86a0>"
      ]
     },
     "execution_count": 41,
     "metadata": {},
     "output_type": "execute_result"
    }
   ],
   "source": [
    "fulldata = pd.merge(anime,rating,on=\"anime_id\",suffixes= [None, \"_user\"])\n",
    "fulldata = fulldata.rename(columns={\"rating_user\": \"user_rating\"})\n",
    "\n",
    "print(f\"Shape of The Merged Dataset : {fulldata.shape}\")\n",
    "print(f\"\\nGlimpse of The Merged Dataset :\")\n",
    "\n",
    "fulldata.head().style.set_properties(**{\"background-color\": \"#2a9d8f\",\"color\":\"white\",\"border\": \"1.5px  solid black\"})"
   ]
  },
  {
   "cell_type": "code",
   "execution_count": null,
   "metadata": {},
   "outputs": [
    {
     "name": "stdout",
     "output_type": "stream",
     "text": [
      "Shape of The Merged Dataset : (7813726, 9)\n",
      "\n",
      "Glimpse of The Merged Dataset :\n"
     ]
    },
    {
     "data": {
      "text/html": [
       "<style type=\"text/css\">\n",
       "#T_0ca78_row0_col0, #T_0ca78_row0_col1, #T_0ca78_row0_col2, #T_0ca78_row0_col3, #T_0ca78_row0_col4, #T_0ca78_row0_col5, #T_0ca78_row0_col6, #T_0ca78_row0_col7, #T_0ca78_row0_col8, #T_0ca78_row1_col0, #T_0ca78_row1_col1, #T_0ca78_row1_col2, #T_0ca78_row1_col3, #T_0ca78_row1_col4, #T_0ca78_row1_col5, #T_0ca78_row1_col6, #T_0ca78_row1_col7, #T_0ca78_row1_col8, #T_0ca78_row2_col0, #T_0ca78_row2_col1, #T_0ca78_row2_col2, #T_0ca78_row2_col3, #T_0ca78_row2_col4, #T_0ca78_row2_col5, #T_0ca78_row2_col6, #T_0ca78_row2_col7, #T_0ca78_row2_col8, #T_0ca78_row3_col0, #T_0ca78_row3_col1, #T_0ca78_row3_col2, #T_0ca78_row3_col3, #T_0ca78_row3_col4, #T_0ca78_row3_col5, #T_0ca78_row3_col6, #T_0ca78_row3_col7, #T_0ca78_row3_col8, #T_0ca78_row4_col0, #T_0ca78_row4_col1, #T_0ca78_row4_col2, #T_0ca78_row4_col3, #T_0ca78_row4_col4, #T_0ca78_row4_col5, #T_0ca78_row4_col6, #T_0ca78_row4_col7, #T_0ca78_row4_col8 {\n",
       "  background-color: #2a9d8f;\n",
       "  color: white;\n",
       "  border: 1.5px  solid black;\n",
       "}\n",
       "</style>\n",
       "<table id=\"T_0ca78\">\n",
       "  <thead>\n",
       "    <tr>\n",
       "      <th class=\"blank level0\" >&nbsp;</th>\n",
       "      <th id=\"T_0ca78_level0_col0\" class=\"col_heading level0 col0\" >anime_id</th>\n",
       "      <th id=\"T_0ca78_level0_col1\" class=\"col_heading level0 col1\" >name</th>\n",
       "      <th id=\"T_0ca78_level0_col2\" class=\"col_heading level0 col2\" >genre</th>\n",
       "      <th id=\"T_0ca78_level0_col3\" class=\"col_heading level0 col3\" >type</th>\n",
       "      <th id=\"T_0ca78_level0_col4\" class=\"col_heading level0 col4\" >episodes</th>\n",
       "      <th id=\"T_0ca78_level0_col5\" class=\"col_heading level0 col5\" >rating</th>\n",
       "      <th id=\"T_0ca78_level0_col6\" class=\"col_heading level0 col6\" >members</th>\n",
       "      <th id=\"T_0ca78_level0_col7\" class=\"col_heading level0 col7\" >user_id</th>\n",
       "      <th id=\"T_0ca78_level0_col8\" class=\"col_heading level0 col8\" >user_rating</th>\n",
       "    </tr>\n",
       "  </thead>\n",
       "  <tbody>\n",
       "    <tr>\n",
       "      <th id=\"T_0ca78_level0_row0\" class=\"row_heading level0 row0\" >0</th>\n",
       "      <td id=\"T_0ca78_row0_col0\" class=\"data row0 col0\" >32281</td>\n",
       "      <td id=\"T_0ca78_row0_col1\" class=\"data row0 col1\" >Kimi no Na wa.</td>\n",
       "      <td id=\"T_0ca78_row0_col2\" class=\"data row0 col2\" >Drama, Romance, School, Supernatural</td>\n",
       "      <td id=\"T_0ca78_row0_col3\" class=\"data row0 col3\" >Movie</td>\n",
       "      <td id=\"T_0ca78_row0_col4\" class=\"data row0 col4\" >1</td>\n",
       "      <td id=\"T_0ca78_row0_col5\" class=\"data row0 col5\" >9.370000</td>\n",
       "      <td id=\"T_0ca78_row0_col6\" class=\"data row0 col6\" >200630</td>\n",
       "      <td id=\"T_0ca78_row0_col7\" class=\"data row0 col7\" >99</td>\n",
       "      <td id=\"T_0ca78_row0_col8\" class=\"data row0 col8\" >5</td>\n",
       "    </tr>\n",
       "    <tr>\n",
       "      <th id=\"T_0ca78_level0_row1\" class=\"row_heading level0 row1\" >1</th>\n",
       "      <td id=\"T_0ca78_row1_col0\" class=\"data row1 col0\" >32281</td>\n",
       "      <td id=\"T_0ca78_row1_col1\" class=\"data row1 col1\" >Kimi no Na wa.</td>\n",
       "      <td id=\"T_0ca78_row1_col2\" class=\"data row1 col2\" >Drama, Romance, School, Supernatural</td>\n",
       "      <td id=\"T_0ca78_row1_col3\" class=\"data row1 col3\" >Movie</td>\n",
       "      <td id=\"T_0ca78_row1_col4\" class=\"data row1 col4\" >1</td>\n",
       "      <td id=\"T_0ca78_row1_col5\" class=\"data row1 col5\" >9.370000</td>\n",
       "      <td id=\"T_0ca78_row1_col6\" class=\"data row1 col6\" >200630</td>\n",
       "      <td id=\"T_0ca78_row1_col7\" class=\"data row1 col7\" >152</td>\n",
       "      <td id=\"T_0ca78_row1_col8\" class=\"data row1 col8\" >10</td>\n",
       "    </tr>\n",
       "    <tr>\n",
       "      <th id=\"T_0ca78_level0_row2\" class=\"row_heading level0 row2\" >2</th>\n",
       "      <td id=\"T_0ca78_row2_col0\" class=\"data row2 col0\" >32281</td>\n",
       "      <td id=\"T_0ca78_row2_col1\" class=\"data row2 col1\" >Kimi no Na wa.</td>\n",
       "      <td id=\"T_0ca78_row2_col2\" class=\"data row2 col2\" >Drama, Romance, School, Supernatural</td>\n",
       "      <td id=\"T_0ca78_row2_col3\" class=\"data row2 col3\" >Movie</td>\n",
       "      <td id=\"T_0ca78_row2_col4\" class=\"data row2 col4\" >1</td>\n",
       "      <td id=\"T_0ca78_row2_col5\" class=\"data row2 col5\" >9.370000</td>\n",
       "      <td id=\"T_0ca78_row2_col6\" class=\"data row2 col6\" >200630</td>\n",
       "      <td id=\"T_0ca78_row2_col7\" class=\"data row2 col7\" >244</td>\n",
       "      <td id=\"T_0ca78_row2_col8\" class=\"data row2 col8\" >10</td>\n",
       "    </tr>\n",
       "    <tr>\n",
       "      <th id=\"T_0ca78_level0_row3\" class=\"row_heading level0 row3\" >3</th>\n",
       "      <td id=\"T_0ca78_row3_col0\" class=\"data row3 col0\" >32281</td>\n",
       "      <td id=\"T_0ca78_row3_col1\" class=\"data row3 col1\" >Kimi no Na wa.</td>\n",
       "      <td id=\"T_0ca78_row3_col2\" class=\"data row3 col2\" >Drama, Romance, School, Supernatural</td>\n",
       "      <td id=\"T_0ca78_row3_col3\" class=\"data row3 col3\" >Movie</td>\n",
       "      <td id=\"T_0ca78_row3_col4\" class=\"data row3 col4\" >1</td>\n",
       "      <td id=\"T_0ca78_row3_col5\" class=\"data row3 col5\" >9.370000</td>\n",
       "      <td id=\"T_0ca78_row3_col6\" class=\"data row3 col6\" >200630</td>\n",
       "      <td id=\"T_0ca78_row3_col7\" class=\"data row3 col7\" >271</td>\n",
       "      <td id=\"T_0ca78_row3_col8\" class=\"data row3 col8\" >10</td>\n",
       "    </tr>\n",
       "    <tr>\n",
       "      <th id=\"T_0ca78_level0_row4\" class=\"row_heading level0 row4\" >4</th>\n",
       "      <td id=\"T_0ca78_row4_col0\" class=\"data row4 col0\" >32281</td>\n",
       "      <td id=\"T_0ca78_row4_col1\" class=\"data row4 col1\" >Kimi no Na wa.</td>\n",
       "      <td id=\"T_0ca78_row4_col2\" class=\"data row4 col2\" >Drama, Romance, School, Supernatural</td>\n",
       "      <td id=\"T_0ca78_row4_col3\" class=\"data row4 col3\" >Movie</td>\n",
       "      <td id=\"T_0ca78_row4_col4\" class=\"data row4 col4\" >1</td>\n",
       "      <td id=\"T_0ca78_row4_col5\" class=\"data row4 col5\" >9.370000</td>\n",
       "      <td id=\"T_0ca78_row4_col6\" class=\"data row4 col6\" >200630</td>\n",
       "      <td id=\"T_0ca78_row4_col7\" class=\"data row4 col7\" >278</td>\n",
       "      <td id=\"T_0ca78_row4_col8\" class=\"data row4 col8\" >-1</td>\n",
       "    </tr>\n",
       "  </tbody>\n",
       "</table>\n"
      ],
      "text/plain": [
       "<pandas.io.formats.style.Styler at 0x12c867e80>"
      ]
     },
     "execution_count": 42,
     "metadata": {},
     "output_type": "execute_result"
    }
   ],
   "source": [
    "fulldata = pd.merge(anime,rating,on=\"anime_id\",suffixes= [None, \"_user\"])\n",
    "fulldata = fulldata.rename(columns={\"rating_user\": \"user_rating\"})\n",
    "\n",
    "print(f\"Shape of The Merged Dataset : {fulldata.shape}\")\n",
    "print(f\"\\nGlimpse of The Merged Dataset :\")\n",
    "\n",
    "fulldata.head().style.set_properties(**{\"background-color\": \"#2a9d8f\",\"color\":\"white\",\"border\": \"1.5px  solid black\"})"
   ]
  },
  {
   "cell_type": "code",
   "execution_count": null,
   "metadata": {},
   "outputs": [],
   "source": [
    "sns.set_style(\"white\")\n",
    "sns.set_context(\"poster\", font_scale=.7)\n",
    "\n",
    "palette = [\"#1d7874\", \"#679289\", \"#f4c095\", \"#ee2e31\", \"#ffb563\", \"#918450\", \"#f85e00\",\n",
    "           \"#a41623\", \"#9a031e\", \"#d6d6d6\", \"#ffee32\", \"#ffd100\", \"#333533\", \"#202020\"]\n",
    "\n",
    "# sns.palplot(sns.color_palette(palette))\n",
    "# plt.show()\n"
   ]
  },
  {
   "cell_type": "code",
   "execution_count": null,
   "metadata": {},
   "outputs": [
    {
     "data": {
      "image/png": "[encoded data removed]",
      "text/plain": [
       "<Figure size 1440x576 with 1 Axes>"
      ]
     },
     "metadata": {},
     "output_type": "display_data"
    }
   ],
   "source": [
    "top_anime = fulldata.copy()\n",
    "top_anime.drop_duplicates(subset=\"name\", keep=\"first\", inplace=True)\n",
    "top_anime_temp1 = top_anime.sort_values([\"members\"], ascending=False)\n",
    "\n",
    "plt.subplots(figsize=(20, 8))\n",
    "p = sns.barplot(x=top_anime_temp1[\"name\"][:14], y=top_anime_temp1[\"members\"],\n",
    "                palette=palette, saturation=1, edgecolor=\"#1c1c1c\", linewidth=2)\n",
    "p.axes.set_title(\"\\nTop Anime Community\\n\", fontsize=25)\n",
    "plt.ylabel(\"Total Member\", fontsize=20)\n",
    "plt.xlabel(\"\\nAnime Name\", fontsize=20)\n",
    "# plt.yscale(\"log\")\n",
    "plt.xticks(rotation=90)\n",
    "for container in p.containers:\n",
    "    p.bar_label(container, label_type=\"center\", padding=6, size=15, color=\"black\", rotation=90,\n",
    "                bbox={\"boxstyle\": \"round\", \"pad\": 0.6, \"facecolor\": \"orange\", \"edgecolor\": \"black\", \"alpha\": 1})\n",
    "\n",
    "sns.despine(left=True, bottom=True)\n",
    "plt.show()\n"
   ]
  }
 ],
 "metadata": {
  "kernelspec": {
   "display_name": "Python 3.10.7 64-bit",
   "language": "python",
   "name": "python3"
  },
  "language_info": {
   "codemirror_mode": {
    "name": "ipython",
    "version": 3
   },
   "file_extension": ".py",
   "mimetype": "text/x-python",
   "name": "python",
   "nbconvert_exporter": "python",
   "pygments_lexer": "ipython3",
   "version": "3.10.7"
  },
  "orig_nbformat": 4,
  "vscode": {
   "interpreter": {
    "hash": "aee8b7b246df8f9039afb4144a1f6fd8d2ca17a180786b69acc140d282b71a49"
   }
  }
 },
 "nbformat": 4,
 "nbformat_minor": 2
}
